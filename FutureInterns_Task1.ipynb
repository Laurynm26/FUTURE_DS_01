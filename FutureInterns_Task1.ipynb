{
 "cells": [
  {
   "cell_type": "code",
   "execution_count": 28,
   "id": "e66fde60-e11a-4273-8c6d-d49ace1d9cc2",
   "metadata": {},
   "outputs": [
    {
     "name": "stderr",
     "output_type": "stream",
     "text": [
      "[nltk_data] Downloading package stopwords to\n",
      "[nltk_data]     C:\\Users\\Administrator\\AppData\\Roaming\\nltk_data...\n",
      "[nltk_data]   Package stopwords is already up-to-date!\n"
     ]
    },
    {
     "name": "stdout",
     "output_type": "stream",
     "text": [
      "Requirement already satisfied: textblob in c:\\users\\administrator\\anaconda3\\lib\\site-packages (0.19.0)\n",
      "Requirement already satisfied: nltk>=3.9 in c:\\users\\administrator\\anaconda3\\lib\\site-packages (from textblob) (3.9.1)\n",
      "Requirement already satisfied: click in c:\\users\\administrator\\anaconda3\\lib\\site-packages (from nltk>=3.9->textblob) (8.1.7)\n",
      "Requirement already satisfied: joblib in c:\\users\\administrator\\anaconda3\\lib\\site-packages (from nltk>=3.9->textblob) (1.4.2)\n",
      "Requirement already satisfied: regex>=2021.8.3 in c:\\users\\administrator\\anaconda3\\lib\\site-packages (from nltk>=3.9->textblob) (2023.10.3)\n",
      "Requirement already satisfied: tqdm in c:\\users\\administrator\\anaconda3\\lib\\site-packages (from nltk>=3.9->textblob) (4.66.4)\n",
      "Requirement already satisfied: colorama in c:\\users\\administrator\\anaconda3\\lib\\site-packages (from click->nltk>=3.9->textblob) (0.4.6)\n"
     ]
    }
   ],
   "source": [
    "import pandas as pd\n",
    "import re\n",
    "import nltk\n",
    "from nltk.corpus import stopwords\n",
    "\n",
    "# Download stopwords\n",
    "nltk.download(\"stopwords\")\n",
    "stop_words = set(stopwords.words(\"english\"))\n",
    "\n",
    "!pip install textblob\n",
    "from textblob import TextBlob\n",
    "\n"
   ]
  },
  {
   "cell_type": "markdown",
   "id": "7505eda1-8a7e-48b5-9b26-9924acee21ba",
   "metadata": {},
   "source": [
    "**Importing the file into Python**"
   ]
  },
  {
   "cell_type": "code",
   "execution_count": 30,
   "id": "87b5e117-c05a-433b-ac41-015bd336e829",
   "metadata": {},
   "outputs": [
    {
     "name": "stdout",
     "output_type": "stream",
     "text": [
      "                                              Review\n",
      "0  __label__2 Great CD: My lovely Pat has one of ...\n",
      "1  __label__2 One of the best game music soundtra...\n",
      "2  __label__1 Batteries died within a year ...: I...\n",
      "3  __label__2 works fine, but Maha Energy is bett...\n",
      "4  __label__2 Great for the non-audiophile: Revie...\n"
     ]
    }
   ],
   "source": [
    "# Reading the \"test\" file\n",
    "with open(\"C:/Users/Administrator/Documents/Future Interns/Task 1/test.ft.txt\", \"r\", encoding=\"utf-8\") as file1:\n",
    "    data = file1.readlines()\n",
    "\n",
    "# Creating a Dataframe for the data\n",
    "df = pd.DataFrame(data, columns=[\"Review\"]) \n",
    "print(df.head())"
   ]
  },
  {
   "cell_type": "markdown",
   "id": "75c8e828-211b-4e4c-aa44-f0205b6ae537",
   "metadata": {},
   "source": [
    "**Text Processing**"
   ]
  },
  {
   "cell_type": "code",
   "execution_count": 32,
   "id": "43edfcd0-ee9d-4c5c-be5f-59c56631a755",
   "metadata": {},
   "outputs": [
    {
     "name": "stdout",
     "output_type": "stream",
     "text": [
      "                                      Cleaned_Review\n",
      "0  great cd lovely pat one great voices generatio...\n",
      "1  one best game music soundtracks game didnt rea...\n",
      "2  batteries died within year bought charger jul ...\n",
      "3  works fine maha energy better check maha energ...\n",
      "4  great nonaudiophile reviewed quite bit combo p...\n"
     ]
    }
   ],
   "source": [
    "#Cleaning the data\n",
    "def clean_text(text):\n",
    "    text = re.sub(r\"__label__\\d+\", \"\", text)  # Remove labels\n",
    "    text = text.lower().strip()  # Lowercase & remove spaces\n",
    "    text = re.sub(r\"[^a-z\\s]\", \"\", text)  # Remove punctuation & numbers\n",
    "    words = text.split()\n",
    "    words = [word for word in words if word not in stop_words]  # Remove stopwords\n",
    "    return \" \".join(words)\n",
    "\n",
    "#Applying cleaning\n",
    "df[\"Cleaned_Review\"] = df[\"Review\"].apply(clean_text)\n",
    "\n",
    "#Dropping column \"Review\"\n",
    "df.drop (columns=[\"Review\"],inplace=True)\n",
    "\n",
    "print(df.head())  # Check cleaned data\n"
   ]
  },
  {
   "cell_type": "markdown",
   "id": "ea3ad83f-eeb1-4506-82f0-691ced59142a",
   "metadata": {},
   "source": [
    "**Sentiment Analysis**"
   ]
  },
  {
   "cell_type": "code",
   "execution_count": 34,
   "id": "508da3dd-3212-48ab-af36-b651f0a50522",
   "metadata": {},
   "outputs": [
    {
     "name": "stdout",
     "output_type": "stream",
     "text": [
      "Sentiment\n",
      "Positive    301269\n",
      "Negative     90315\n",
      "Neutral       8416\n",
      "Name: count, dtype: int64\n",
      "                                      Cleaned_Review Sentiment\n",
      "0  great cd lovely pat one great voices generatio...  Positive\n",
      "1  one best game music soundtracks game didnt rea...  Positive\n",
      "2  batteries died within year bought charger jul ...  Positive\n",
      "3  works fine maha energy better check maha energ...  Positive\n",
      "4  great nonaudiophile reviewed quite bit combo p...  Positive\n"
     ]
    }
   ],
   "source": [
    "def get_sentiment(text):\n",
    "    analysis = TextBlob(text)\n",
    "    if analysis.sentiment.polarity > 0:\n",
    "        return \"Positive\"\n",
    "    elif analysis.sentiment.polarity < 0:\n",
    "        return \"Negative\"\n",
    "    else:\n",
    "        return \"Neutral\"\n",
    "\n",
    "# Applying sentiment analysis\n",
    "df[\"Sentiment\"] = df[\"Cleaned_Review\"].apply(get_sentiment)\n",
    "\n",
    "# Displaying results\n",
    "print(df[\"Sentiment\"].value_counts())  # Count sentiment categories\n",
    "print(df.head())"
   ]
  },
  {
   "cell_type": "code",
   "execution_count": 44,
   "id": "485ee86d-0b95-4da5-8e0f-9cffc2e94541",
   "metadata": {},
   "outputs": [
    {
     "name": "stdout",
     "output_type": "stream",
     "text": [
      "<class 'pandas.core.frame.DataFrame'>\n",
      "RangeIndex: 400000 entries, 0 to 399999\n",
      "Data columns (total 2 columns):\n",
      " #   Column          Non-Null Count   Dtype \n",
      "---  ------          --------------   ----- \n",
      " 0   Cleaned_Review  400000 non-null  object\n",
      " 1   Sentiment       400000 non-null  object\n",
      "dtypes: object(2)\n",
      "memory usage: 6.1+ MB\n"
     ]
    }
   ],
   "source": [
    "df.info()"
   ]
  },
  {
   "cell_type": "code",
   "execution_count": 46,
   "id": "bc96a600-ec5f-405a-8629-e31ef37cc2dc",
   "metadata": {},
   "outputs": [],
   "source": [
    "#Converting the text file to CSV\n",
    "df.to_csv(\"C:/Users/Administrator/Documents/Future Interns/Task 1/Sentiment_Analysis.csv\", index= False)\n"
   ]
  },
  {
   "cell_type": "code",
   "execution_count": null,
   "id": "b4587be8-5a99-471c-85f2-d9c13e77195c",
   "metadata": {},
   "outputs": [],
   "source": []
  }
 ],
 "metadata": {
  "kernelspec": {
   "display_name": "Python 3 (ipykernel)",
   "language": "python",
   "name": "python3"
  },
  "language_info": {
   "codemirror_mode": {
    "name": "ipython",
    "version": 3
   },
   "file_extension": ".py",
   "mimetype": "text/x-python",
   "name": "python",
   "nbconvert_exporter": "python",
   "pygments_lexer": "ipython3",
   "version": "3.12.4"
  }
 },
 "nbformat": 4,
 "nbformat_minor": 5
}
